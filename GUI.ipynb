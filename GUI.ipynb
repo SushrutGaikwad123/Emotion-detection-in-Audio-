{
 "cells": [
  {
   "cell_type": "code",
   "execution_count": 1,
   "id": "a12606c4",
   "metadata": {},
   "outputs": [
    {
     "name": "stdout",
     "output_type": "stream",
     "text": [
      "WARNING:tensorflow:From C:\\Users\\User\\anaconda3\\Lib\\site-packages\\keras\\src\\losses.py:2976: The name tf.losses.sparse_softmax_cross_entropy is deprecated. Please use tf.compat.v1.losses.sparse_softmax_cross_entropy instead.\n",
      "\n"
     ]
    }
   ],
   "source": [
    "import cv2\n",
    "import numpy as np\n",
    "from keras.models import model_from_json\n",
    "import tkinter as tk\n",
    "import librosa\n",
    "import tensorflow as tf\n",
    "from tkinter import filedialog\n",
    "from tkinter import *\n",
    "from tkinter import Label, Tk"
   ]
  },
  {
   "cell_type": "code",
   "execution_count": 2,
   "id": "5e19242a",
   "metadata": {},
   "outputs": [],
   "source": [
    "emotion_dict = {0: \"Angry\", 1: \"Disgusted\", 2: \"Fearful\", 3: \"Happy\", 4: \"Neutral\", 5: \"Sad\", 6: \"Surprised\"}"
   ]
  },
  {
   "cell_type": "code",
   "execution_count": 3,
   "id": "7906b5e1",
   "metadata": {},
   "outputs": [],
   "source": [
    "# Load model architecture from JSON file\n",
    "json_file = open('emotion_model.json', 'r')\n",
    "loaded_model_json = json_file.read()\n",
    "json_file.close()"
   ]
  },
  {
   "cell_type": "code",
   "execution_count": 4,
   "id": "7cd575b3",
   "metadata": {},
   "outputs": [
    {
     "name": "stdout",
     "output_type": "stream",
     "text": [
      "WARNING:tensorflow:From C:\\Users\\User\\anaconda3\\Lib\\site-packages\\keras\\src\\backend.py:1398: The name tf.executing_eagerly_outside_functions is deprecated. Please use tf.compat.v1.executing_eagerly_outside_functions instead.\n",
      "\n",
      "WARNING:tensorflow:From C:\\Users\\User\\anaconda3\\Lib\\site-packages\\keras\\src\\layers\\pooling\\max_pooling2d.py:161: The name tf.nn.max_pool is deprecated. Please use tf.nn.max_pool2d instead.\n",
      "\n",
      "Loaded model from disk\n"
     ]
    }
   ],
   "source": [
    "# Load model weights from H5 file\n",
    "emotion_model = model_from_json(loaded_model_json)\n",
    "emotion_model.load_weights(\"emotion_model.h5\")\n",
    "print(\"Loaded model from disk\")"
   ]
  },
  {
   "cell_type": "code",
   "execution_count": 5,
   "id": "731f384d",
   "metadata": {},
   "outputs": [
    {
     "name": "stdout",
     "output_type": "stream",
     "text": [
      "Loaded model from disk\n"
     ]
    }
   ],
   "source": [
    "# load weights into new model\n",
    "emotion_model.load_weights(\"emotion_model.h5\")\n",
    "print(\"Loaded model from disk\")"
   ]
  },
  {
   "cell_type": "code",
   "execution_count": 6,
   "id": "0433cbb1",
   "metadata": {},
   "outputs": [],
   "source": [
    "def start_detection(source):\n",
    "    if source == \"webcam\":\n",
    "        cap = cv2.VideoCapture(0)\n",
    "    else:\n",
    "        video_path = filedialog.askopenfilename()\n",
    "        if video_path:\n",
    "            cap = cv2.VideoCapture(video_path)\n",
    "        else:\n",
    "            return\n",
    "\n",
    "    while True:\n",
    "        ret, frame = cap.read()\n",
    "        if not ret or frame is None:\n",
    "            break\n",
    "\n",
    "        frame = cv2.resize(frame, (1280, 720))\n",
    "        face_detector = cv2.CascadeClassifier('haarcascades/haarcascade_frontalface_default.xml')\n",
    "        gray_frame = cv2.cvtColor(frame, cv2.COLOR_BGR2GRAY)\n",
    "\n",
    "        num_faces = face_detector.detectMultiScale(gray_frame, scaleFactor=1.3, minNeighbors=5)\n",
    "\n",
    "        for (x, y, w, h) in num_faces:\n",
    "            cv2.rectangle(frame, (x, y-50), (x+w, y+h+10), (0, 255, 0), 4)\n",
    "            roi_gray_frame = gray_frame[y:y + h, x:x + w]\n",
    "            cropped_img = np.expand_dims(np.expand_dims(cv2.resize(roi_gray_frame, (48, 48)), -1), 0)\n",
    "\n",
    "            emotion_prediction = emotion_model.predict(cropped_img)\n",
    "            maxindex = int(np.argmax(emotion_prediction))\n",
    "            cv2.putText(frame, emotion_dict[maxindex], (x+5, y-20), cv2.FONT_HERSHEY_SIMPLEX, 1, (255, 0, 0), 2, cv2.LINE_AA)\n",
    "        #press \"s\" to Quit\n",
    "        cv2.imshow('Emotion Detection', frame)\n",
    "        if cv2.waitKey(1) & 0xFF == ord('s'):\n",
    "            break\n",
    "\n",
    "    cap.release()\n",
    "    cv2.destroyAllWindows()\n"
   ]
  },
  {
   "cell_type": "code",
   "execution_count": null,
   "id": "17456555",
   "metadata": {},
   "outputs": [],
   "source": []
  },
  {
   "cell_type": "code",
   "execution_count": 7,
   "id": "78e58cd8",
   "metadata": {},
   "outputs": [],
   "source": [
    "def start_webcam_detection():\n",
    "    start_detection(\"webcam\")\n",
    "\n",
    "def start_video_detection():\n",
    "    start_detection(\"video\")"
   ]
  },
  {
   "cell_type": "code",
   "execution_count": 8,
   "id": "d757115a",
   "metadata": {},
   "outputs": [],
   "source": [
    "def get_mel_spectrogram(wave, sample_rate):\n",
    "  # Compute Mel spectrogram\n",
    "  mel_spectrogram = librosa.feature.melspectrogram(y=wave, sr = sample_rate, n_fft = 2048, hop_length = 512, n_mels = 90)\n",
    "  log_mel_spectrogram = librosa.power_to_db(mel_spectrogram)\n",
    "  return log_mel_spectrogram"
   ]
  },
  {
   "cell_type": "code",
   "execution_count": 9,
   "id": "d1f3b2d0",
   "metadata": {},
   "outputs": [],
   "source": [
    "def noise(data):\n",
    "    noise_amp = 0.035 * np.random.uniform() * np.amax(data)\n",
    "    data = data + noise_amp * np.random.normal(size=data.shape[0])\n",
    "    return data"
   ]
  },
  {
   "cell_type": "code",
   "execution_count": 10,
   "id": "5ab71863",
   "metadata": {},
   "outputs": [],
   "source": [
    "def extract_mel_spectrogram(audio_path, trim_duration=3, show_plot=False):\n",
    "    try:\n",
    "        # Load audio file\n",
    "        y, sr = librosa.load(audio_path, duration=trim_duration, offset=0.5)\n",
    "\n",
    "        # Trim audio to 3 seconds\n",
    "        if len(y) < sr * trim_duration:\n",
    "            y = np.pad(y, (0, sr * trim_duration - len(y)))\n",
    "\n",
    "        y = noise(y)\n",
    "\n",
    "        # Extract mel spectrogram\n",
    "        mel_spectrogram = get_mel_spectrogram(y, sr)\n",
    "\n",
    "        # Display spectrogram\n",
    "        if show_plot:\n",
    "            plt.figure(figsize=(10, 4))\n",
    "            librosa.display.specshow(mel_spectrogram, y_axis='mel', x_axis='time')\n",
    "            plt.title('Mel Spectrogram')\n",
    "            plt.colorbar(format='%+2.0f dB')\n",
    "            plt.show()\n",
    "\n",
    "        return mel_spectrogram\n",
    "\n",
    "    except Exception as e:\n",
    "        print(f\"Error processing audio: {e}\")\n",
    "        return None\n",
    "\n"
   ]
  },
  {
   "cell_type": "code",
   "execution_count": 11,
   "id": "b9db5ba8",
   "metadata": {},
   "outputs": [
    {
     "data": {
      "text/plain": [
       "array(['angry', 'calm', 'disgust', 'fear', 'happy', 'neutral', 'sad',\n",
       "       'surprise'], dtype=object)"
      ]
     },
     "execution_count": 11,
     "metadata": {},
     "output_type": "execute_result"
    }
   ],
   "source": [
    "from sklearn.preprocessing import LabelEncoder\n",
    "import pandas as pd\n",
    "# Encode emotion labels\n",
    "df = pd.read_csv('data_path.csv')\n",
    "label_encoder = LabelEncoder()\n",
    "Y = label_encoder.fit_transform(df['Emotions'])\n",
    "Y[:5], Y.shape\n",
    "label_encoder.classes_\n",
    "\n"
   ]
  },
  {
   "cell_type": "code",
   "execution_count": 12,
   "id": "070c059e",
   "metadata": {},
   "outputs": [],
   "source": [
    "def detect_emotion_from_audio():\n",
    "    # Load the trained audio model\n",
    "    model1 = tf.keras.models.load_model('audio_model.h5')\n",
    "\n",
    "    # Get the audio path from the GUI input\n",
    "    audio_path = audio_path_entry.get()\n",
    "\n",
    "    # Extract mel spectrogram\n",
    "    mel = extract_mel_spectrogram(audio_path, trim_duration=3, show_plot=False)\n",
    "    if mel is None:\n",
    "        print(\"Error extracting mel spectrogram.\")\n",
    "        return\n",
    "\n",
    "    mel = np.expand_dims(np.expand_dims(mel, axis=0), axis=-1)\n",
    "\n",
    "    # Predict emotion\n",
    "    y_pred = model1.predict(mel)\n",
    "    output = np.argmax(y_pred, axis=1)\n",
    "    emotion_label = label_encoder.classes_[output][0]\n",
    "\n",
    "    # Display the predicted emotion in the GUI\n",
    "    result_label.config(text=f\"Predicted Emotion: {emotion_label}\")\n",
    "\n",
    "# Function to open file dialog and get audio file path\n",
    "def browse_file():\n",
    "    file_path = filedialog.askopenfilename()\n",
    "    audio_path_entry.delete(0, 'end')\n",
    "    audio_path_entry.insert(0, file_path)\n",
    "\n"
   ]
  },
  {
   "cell_type": "code",
   "execution_count": null,
   "id": "0bd2861e",
   "metadata": {},
   "outputs": [],
   "source": [
    "# Creating GUI\n",
    "root = tk.Tk()\n",
    "root.title(\"Emotion Detection\")\n",
    "root.geometry('800x600')\n",
    "root.configure(background='#CDCDCD')\n",
    "\n",
    "heading = Label(root,text='Emotion Detection',pady=20,font=('arial',25,'bold'))\n",
    "heading.configure(background='#CDCDCD',foreground=\"#364156\")\n",
    "heading.pack()\n",
    "\n",
    "webcam_button = tk.Button(root, text=\"Use Webcam for Video Detection\", command=start_webcam_detection)\n",
    "webcam_button.pack(pady=10)\n",
    "\n",
    "video_button = tk.Button(root, text=\"Use Video File for Video Detection\", command=start_video_detection)\n",
    "video_button.pack(pady=10)\n",
    "\n",
    "# press \"s\" to exit from webcam or video\n",
    "\n",
    "audio_label = Label(root, text=\"Audio Emotion Detection\", pady=10, font=('arial', 25, 'bold'))\n",
    "audio_label.configure(background='#CDCDCD', foreground=\"#364156\")\n",
    "audio_label.pack()\n",
    "\n",
    "instruction_label_audio = Label(root, text=\"Please enter the audio file path:\")\n",
    "instruction_label_audio.pack(pady=10)\n",
    "\n",
    "audio_path_entry = Entry(root, width=40)\n",
    "audio_path_entry.pack(pady=10)\n",
    "\n",
    "browse_button = Button(root, text=\"Browse\", command=browse_file)\n",
    "browse_button.pack(pady=10)\n",
    "\n",
    "detect_button = Button(root, text=\"Detect Emotion\", command=detect_emotion_from_audio)\n",
    "detect_button.pack(pady=20)\n",
    "\n",
    "result_label= Label(root, text=\"\")\n",
    "result_label.pack()\n",
    "\n",
    "root.mainloop()"
   ]
  },
  {
   "cell_type": "code",
   "execution_count": null,
   "id": "1a791c20",
   "metadata": {},
   "outputs": [],
   "source": []
  }
 ],
 "metadata": {
  "kernelspec": {
   "display_name": "Python 3 (ipykernel)",
   "language": "python",
   "name": "python3"
  },
  "language_info": {
   "codemirror_mode": {
    "name": "ipython",
    "version": 3
   },
   "file_extension": ".py",
   "mimetype": "text/x-python",
   "name": "python",
   "nbconvert_exporter": "python",
   "pygments_lexer": "ipython3",
   "version": "3.11.5"
  }
 },
 "nbformat": 4,
 "nbformat_minor": 5
}
